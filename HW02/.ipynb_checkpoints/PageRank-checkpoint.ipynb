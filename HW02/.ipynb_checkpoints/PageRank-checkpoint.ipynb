{
 "cells": [
  {
   "attachments": {},
   "cell_type": "markdown",
   "metadata": {},
   "source": [
    "PYSPARK PAGERANK \n",
    "===\n",
    "本次作業我做了幾個MAPPER與REDUCER  \n",
    "基本上REDUCER只有負責加法  \n",
    "主程式讀取資料進來後  \n",
    "## 1.首先根據作業要求初始化RANK值  \n",
    "```=python\n",
    "N=10876\n",
    "B=0.8\n",
    "ranks = [ (str(i),1/N) for i in range(1,N+1) ]\n",
    "ranks=sc.parallelize(ranks)\n",
    "```\n",
    "## 2.將相鄰矩陣MAPPING成我們要的資料格式  \n",
    "    [(1,[2,3]),(2,[4]),...]\n",
    "![image.png](./image.png)  \n",
    "\n",
    "```=python\n",
    "def divergeTwoPart(line):\n",
    "    parts = re.split(r'\\s+', line) # 正則'\n",
    "    return (parts[0],[parts[1]])\n",
    "def add(x,y):\n",
    "    return x+y\n",
    "source=source.map(divergeTwoPart)\n",
    "source=source.reduceByKey(add)\n",
    "```\n",
    "\n",
    "\n",
    "這邊使用到divergeTwoPart，把資料切成(source,[destination node])    \n",
    "再用reduceByKey(add)，把相同來源的整理成一起  \n",
    "因為圖上的degree可以用len([destination nodes]來代替，所以就沒存在資料結構中  \n",
    "\n",
    "## 3.進行rank值更新 迭代20次  參考ppt公式  \n",
    "![image-4.png](./image-4.png)  \n",
    "\n",
    "contributions 負責計算出所有點到下一個點的 ri/di    \n",
    "再用reduceByKey(add)把相同目的地的都加起來  並*B(0.8)  \n",
    "```=python\n",
    "def contributions(source_dests_rank):\n",
    "    dests=source_dests_rank[1][0] \n",
    "    rank=source_dests_rank[1][1]\n",
    "    deg = len(dests)\n",
    "    for dest in dests:\n",
    "        yield (dest, rank / deg)\n",
    "        \n",
    "for i in range(20):        \n",
    "    contribs = source.join(ranks).flatMap(contributions)\n",
    "    ranks = contribs.reduceByKey(add).mapValues(lambda rank : rank * B )\n",
    "```\n",
    "\n",
    "## 3.接續上數迭代進行renormalize  參考ppt公式  \n",
    "![image-5.png](./image-5.png)  \n",
    "\n",
    "這邊用到了sc的累加器，基本上就只是存全部的RANK加起來的值    \n",
    "最後再套用公式 (1-S)/N 計算出答案    \n",
    "每次迭代更新一下S    \n",
    "```=python\n",
    "accum = sc.accumulator(0.0)\n",
    "def addS(rank):\n",
    "    global accum\n",
    "    accum += rank[1]\n",
    "    \n",
    "    ranks.foreach(addS)\n",
    "    S=accum.value\n",
    "    ranks = ranks.mapValues(lambda rank : rank +  (1 - S)/N)\n",
    "    accum.add(-accum.value)\n",
    "```\n",
    "## 4.印出答案  \n",
    "![image-6.png](./image-6.png)"
   ]
  },
  {
   "cell_type": "code",
   "execution_count": 6,
   "metadata": {},
   "outputs": [],
   "source": [
    "from pyspark import SparkConf,SparkContext\n",
    "from operator import add\n",
    "import re\n",
    "\n",
    "def divergeTwoPart(line):\n",
    "    parts = re.split(r'\\s+', line) # 正則'\n",
    "    return (parts[0],[parts[1]])\n",
    "\n",
    "def contributions(source_dests_rank):\n",
    "    dests=source_dests_rank[1][0] \n",
    "    rank=source_dests_rank[1][1]\n",
    "    deg = len(dests)\n",
    "    for dest in dests:\n",
    "        yield (dest, rank / deg)\n",
    "\n",
    "def add(x,y):\n",
    "    return x+y\n",
    "\n",
    "accum = sc.accumulator(0.0)\n",
    "def addS(rank):\n",
    "    global accum\n",
    "    accum += rank[1]\n",
    "    "
   ]
  },
  {
   "cell_type": "code",
   "execution_count": 7,
   "metadata": {},
   "outputs": [],
   "source": [
    "sc.stop()\n",
    "#本欄位為跑實際資料用的\n",
    "conf=SparkConf().setMaster('local').setAppName('PageRank').set(\"spark.ui.port\", \"34050\")\n",
    "sc=SparkContext(conf=conf)\n",
    "source = sc.textFile(r\"./p2p-Gnutella04.txt\")\n",
    "#初使化\n",
    "N=10876\n",
    "B=0.8\n",
    "ranks = [ (str(i),1/N) for i in range(1,N+1) ]\n",
    "ranks=sc.parallelize(ranks)\n",
    "source=source.map(divergeTwoPart)\n",
    "source=source.reduceByKey(add)\n",
    "\n",
    "\n",
    "for i in range(20):\n",
    "    contribs = source.join(ranks).flatMap(contributions)\n",
    "    ranks = contribs.reduceByKey(add).mapValues(lambda rank : rank * B )\n",
    "    ranks.foreach(addS)\n",
    "    S=accum.value\n",
    "    ranks = ranks.mapValues(lambda rank : rank +  (1 - S)/N)\n",
    "    accum.add(-accum.value)\n",
    "\n"
   ]
  },
  {
   "cell_type": "code",
   "execution_count": 8,
   "metadata": {},
   "outputs": [
    {
     "name": "stdout",
     "output_type": "stream",
     "text": [
      "('1054', 0.000629741636046356)\n",
      "('1056', 0.000629582815958033)\n",
      "('1536', 0.0005251083939889216)\n",
      "('171', 0.0005126860232970683)\n",
      "('453', 0.0004962075018740512)\n",
      "('407', 0.0004857273277695018)\n",
      "('263', 0.00048044391878490416)\n",
      "('4664', 0.00047179820746095873)\n",
      "('261', 0.0004639005279768693)\n",
      "('410', 0.00046196765017376723)\n"
     ]
    }
   ],
   "source": [
    "#本欄位為跑實際資料用的\n",
    "ans=sorted(ranks.collect(), key = lambda s: s[1],reverse=True)\n",
    "for i in range(10):\n",
    "    try:\n",
    "        print(ans[i])\n",
    "    except:\n",
    "        pass"
   ]
  },
  {
   "cell_type": "code",
   "execution_count": 88,
   "metadata": {},
   "outputs": [
    {
     "name": "stdout",
     "output_type": "stream",
     "text": [
      "[('4', 0.32906630475610793), ('1', 0.1931454977244748), ('2', 0.16991320025033024), ('3', 0.16991320025033024), ('5', 0.13796179701875677)]\n"
     ]
    }
   ],
   "source": [
    "sc.stop()\n",
    "#本欄位為跑測試資料用的\n",
    "conf=SparkConf().setMaster('local').setAppName('PageRank').set(\"spark.ui.port\", \"34050\")\n",
    "sc=SparkContext(conf=conf)\n",
    "source = sc.textFile(r\"./test.txt\")\n",
    "#初使化\n",
    "N=5\n",
    "B=0.8\n",
    "ranks = [ (str(i),1/N) for i in range(1,N+1) ]\n",
    "ranks=sc.parallelize(ranks)\n",
    "source=source.map(divergeTwoPart)\n",
    "source=source.reduceByKey(add)\n",
    "\n",
    "\n",
    "for i in range(10):\n",
    "    contribs = source.join(ranks).flatMap(contributions)\n",
    "    ranks = contribs.reduceByKey(add).mapValues(lambda rank : rank * B )\n",
    "    ranks.foreach(addS)\n",
    "    S=accum.value\n",
    "    ranks = ranks.mapValues(lambda rank : rank +  (1 - S)/N)\n",
    "    accum.add(-accum.value)\n",
    "\n"
   ]
  },
  {
   "cell_type": "code",
   "execution_count": null,
   "metadata": {},
   "outputs": [],
   "source": [
    "#本欄位為跑測試資料用的\n",
    "ans=sorted(ranks.collect(), key = lambda s: s[1],reverse=True)\n",
    "for i in range(10):\n",
    "    try:\n",
    "        print(ans[i])\n",
    "    except:\n",
    "        pass"
   ]
  }
 ],
 "metadata": {
  "kernelspec": {
   "display_name": "Python 3",
   "language": "python",
   "name": "python3"
  },
  "language_info": {
   "codemirror_mode": {
    "name": "ipython",
    "version": 3
   },
   "file_extension": ".py",
   "mimetype": "text/x-python",
   "name": "python",
   "nbconvert_exporter": "python",
   "pygments_lexer": "ipython3",
   "version": "3.6.8"
  }
 },
 "nbformat": 4,
 "nbformat_minor": 2
}
